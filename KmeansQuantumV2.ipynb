{
 "cells": [
  {
   "cell_type": "markdown",
   "metadata": {},
   "source": [
    "# Quantum K-means Clustering for single feature dataset"
   ]
  },
  {
   "cell_type": "markdown",
   "metadata": {},
   "source": [
    "In this notebook, K-means algorithm using simple quantum gate encoding is applied on a single feature dataset.\n"
   ]
  },
  {
   "cell_type": "markdown",
   "metadata": {},
   "source": [
    "## Outline\n",
    "\n",
    "- **1. Importing libraries**\n",
    "\n",
    "- **2. Dataset**\n",
    "\n",
    "- **3. K-means algorithm**\n",
    "    1. Explanation of the K-means algorithm:\n",
    "        - Finding closest centroids.\n",
    "        - Computing centroid means\n",
    "    2. Random initialization\n",
    "\n",
    "- **4. Cluster Visualization**\n"
   ]
  },
  {
   "cell_type": "markdown",
   "metadata": {},
   "source": [
    "### 1 Importing libraries "
   ]
  },
  {
   "cell_type": "code",
   "execution_count": 149,
   "metadata": {},
   "outputs": [
    {
     "name": "stdout",
     "output_type": "stream",
     "text": [
      "The autoreload extension is already loaded. To reload it, use:\n",
      "  %reload_ext autoreload\n"
     ]
    }
   ],
   "source": [
    "# used for manipulating directory paths\n",
    "import os\n",
    "\n",
    "# Scientific and vector computation for python\n",
    "import numpy as np\n",
    "\n",
    "\n",
    "# Plotting library\n",
    "import matplotlib.pyplot as plt\n",
    "\n",
    "# Compute silhouette score of each cluster\n",
    "from sklearn.metrics import silhouette_score\n",
    "\n",
    "\n",
    "# Importing quantum tools \n",
    "from qiskit.circuit.library import RYGate\n",
    "from qiskit.visualization import array_to_latex\n",
    "from qiskit.quantum_info import state_fidelity\n",
    "\n",
    "%load_ext autoreload\n",
    "%autoreload 2\n",
    "\n",
    "\n",
    "# tells matplotlib to embed plots within the notebook\n",
    "%matplotlib inline"
   ]
  },
  {
   "cell_type": "markdown",
   "metadata": {},
   "source": [
    "### 2 Dataset"
   ]
  },
  {
   "cell_type": "markdown",
   "metadata": {},
   "source": [
    "This code below generates synthetic data for K-means clustering. It defines a dataset consisting of a single feature and composed of two clusters. It specifies the number of data points per cluster, along with the mean and standard deviation for each cluster's distribution. Using NumPy's random normal distribution, data points are generated for each cluster based on their respective parameters. After concatenating the data points from both clusters into a single array, they are shuffled to ensure randomness. Finally, the data is visualized using Matplotlib as a scatter plot, with each data point represented as a blue dot along the x-axis."
   ]
  },
  {
   "cell_type": "code",
   "execution_count": 150,
   "metadata": {},
   "outputs": [
    {
     "data": {
      "image/png": "[encoded data removed]",
      "text/plain": [
       "<Figure size 800x500 with 1 Axes>"
      ]
     },
     "metadata": {},
     "output_type": "display_data"
    }
   ],
   "source": [
    "# Number of data points per cluster\n",
    "num_points_per_cluster = 50\n",
    "\n",
    "# Mean and standard deviation for each cluster\n",
    "cluster1_mean = 2\n",
    "cluster1_std = 0.5\n",
    "\n",
    "cluster2_mean = 4\n",
    "cluster2_std = 0.5\n",
    "\n",
    "\n",
    "\n",
    "\n",
    "\n",
    "# Generate data points for each cluster\n",
    "cluster1_points = np.random.normal(cluster1_mean, cluster1_std, num_points_per_cluster)\n",
    "cluster2_points = np.random.normal(cluster2_mean, cluster2_std, num_points_per_cluster)\n",
    "\n",
    "# Concatenate data points\n",
    "data = np.concatenate([cluster1_points, cluster2_points]).reshape(-1,1)\n",
    "\n",
    "# Shuffle data points\n",
    "np.random.shuffle(data)\n",
    "\n",
    "# Plot the data\n",
    "plt.figure(figsize=(8, 5))\n",
    "plt.scatter(data, np.zeros_like(data), color='blue', label='Data Points')\n",
    "plt.xlabel('Value')\n",
    "plt.title('Dummy Data for K-means Clustering')\n",
    "plt.legend()\n",
    "plt.grid(True)\n",
    "plt.show()\n"
   ]
  },
  {
   "cell_type": "markdown",
   "metadata": {},
   "source": [
    "\n",
    "### 3 K-means algorithm\n",
    "\n",
    "The K-means algorithm is a method to automatically cluster similar data examples together. Concretely, you are given a training set $\\{x^{(1)} , \\cdots, x^{(m)}\\}$ (where $x^{(i)} \\in \\mathbb{R}^n$), and want to group the data into a few cohesive “clusters”. The intuition behind K-means is an iterative procedure that starts by guessing the initial centroids, and then refines this guess by repeatedly assigning examples to their closest centroids and then recomputing the centroids based on the assignments.\n",
    "\n",
    "The K-means algorithm is as follows:\n",
    "\n",
    "```python\n",
    "centroids = kMeansInitCentroids(X, K)\n",
    "for i in range(iterations):\n",
    "    # Cluster assignment step: Assign each data point to the\n",
    "    # closest centroid. idx[i] corresponds to cˆ(i), the index\n",
    "    # of the centroid assigned to example i\n",
    "    idx = findClosestCentroids(X, centroids)\n",
    "    \n",
    "    # Move centroid step: Compute means based on centroid\n",
    "    # assignments\n",
    "    centroids = computeMeans(X, idx, K)\n",
    "```\n",
    "\n",
    "The inner-loop of the algorithm repeatedly carries out two steps: (1) Assigning each training example $x^{(i)}$ to its closest centroid, and (2) Recomputing the mean of each centroid using the points assigned to it. The K-means algorithm will always converge to some final set of means for the centroids. Note that the converged solution may not always be ideal and depends on the initial setting of the centroids. Therefore, in practice the K-means algorithm is usually run a few times with different random initializations. One way to choose between these different solutions from different random initializations is to choose the one with the lowest cost function value (distortion). the two phases of the K-means algorithm are implemented separately in the next sections."
   ]
  },
  {
   "cell_type": "markdown",
   "metadata": {},
   "source": [
    "<a id=\"section1\"></a>\n",
    "#### 3.1.1 Finding closest centroids\n",
    "\n",
    "In the \"cluster assignment\" phase of the Quantum K-means algorithm, each training example $x^{(i)}$ is assigned to its closest centroid, determined by the current centroid positions. Specifically, for every example $i$, we encode the data $x$ and the centroids into quantum states. Subsequently, we compute the fidelity between the evolved quantum state of the data point $x^{(i)}$ and all the evolved centroids using the following equation:\n",
    "$$\n",
    "F(|\\psi_1\\rangle, |\\psi_2\\rangle) = \\left| \\langle \\psi_1 | \\psi_2 \\rangle \\right|^2,\n",
    "$$\n",
    "where $|\\psi_1\\rangle$ represents the quantum state of the data point and $|\\psi_2\\rangle$ represents the quantum state of a centroid. Each data point is then assigned to the centroid with the highest fidelity.\n",
    "\n"
   ]
  },
  {
   "cell_type": "markdown",
   "metadata": {},
   "source": [
    "The code defines three functions for quantum state manipulation and fidelity calculation. The init_state() function initializes a quantum state representing a qubit in the |0⟩ state. The encode_data(x) function encodes classical data into a quantum state by applying a rotation gate with an angle specified by the input parameter x, which is given in radians. It first initializes the quantum state using init_state(), then applies a rotation gate to it. The calculate_fid(state1, state2) function calculates the fidelity between two quantum states represented as column vectors."
   ]
  },
  {
   "cell_type": "code",
   "execution_count": 151,
   "metadata": {},
   "outputs": [],
   "source": [
    "def init_state():\n",
    "    \"\"\"\n",
    "    Initialize a quantum state representing a qubit in the |0⟩ state.\n",
    "\n",
    "    Returns:\n",
    "    numpy.ndarray: A column vector representing the |0⟩ state in the computational basis.\n",
    "    \"\"\"\n",
    "    return np.array([[1], [0]])\n",
    "\n",
    "\n",
    "def encode_data(x):\n",
    "    \"\"\"\n",
    "    Encode classical data into a quantum state by applying a rotation gate.\n",
    "\n",
    "    Args:\n",
    "    x (float): The angle in radians by which to rotate the qubit state.\n",
    "\n",
    "    Returns:\n",
    "    numpy.ndarray: The quantum state after encoding the data, obtained by applying a rotation gate.\n",
    "    \"\"\"\n",
    "    state = init_state()  # Initialize the quantum state\n",
    "    rx = RYGate(float(x)).to_matrix()  # Create a rotation gate with the given angle\n",
    "    evolved_state = rx @ state  # Apply the rotation gate to the initial state\n",
    "    \n",
    "    return evolved_state\n",
    "\n",
    "\n",
    "def calculate_fid(state1, state2):\n",
    "    \"\"\"\n",
    "    Calculate the fidelity abs(inner product)^2 between two quantum states.\n",
    "\n",
    "    Args:\n",
    "    state1 (numpy.ndarray): The first quantum state represented as a column vector.\n",
    "    state2 (numpy.ndarray): The second quantum state represented as a column vector.\n",
    "\n",
    "    Returns:\n",
    "    float: The fidelity between the two quantum states.\n",
    "    \"\"\"\n",
    "    return np.abs(np.dot(state1.conj().transpose(), state2))**2"
   ]
  },
  {
   "cell_type": "markdown",
   "metadata": {},
   "source": [
    "\n",
    "The provided findClosestCentroids function computes the centroid memberships for every example in a dataset X by calculating the fidelity between each data point and each centroid in the provided centroid array. It initializes a fidelity matrix with zeros, where each row corresponds to a data point and each column corresponds to a centroid. Then, it iterates over each data point and each centroid, calculating the fidelity between them using the calculate_fid function. Finally, it assigns each data point to the centroid with the highest fidelity and returns a vector idx containing the indices of the closest centroids for each data point in the dataset X. "
   ]
  },
  {
   "cell_type": "code",
   "execution_count": 152,
   "metadata": {},
   "outputs": [],
   "source": [
    "def findClosestCentroids(X, centroids):\n",
    "    \"\"\"\n",
    "    Compute the closest centroid for each example in a dataset.\n",
    "    \n",
    "    Parameters\n",
    "    ----------\n",
    "    X : array_like\n",
    "        The dataset of size (m, n) where each row is a single example. \n",
    "        That is, there are m examples each of n dimensions.\n",
    "        \n",
    "    centroids : array_like\n",
    "        The centroids of size (K, n) for K clusters, each with n dimensions.\n",
    "    \n",
    "    Returns\n",
    "    -------\n",
    "    idx : numpy.ndarray\n",
    "        A vector of size (m, ) where each element represents the index of the closest centroid\n",
    "        for the corresponding example in the dataset X.\n",
    "    \n",
    "    Description\n",
    "    -----------\n",
    "    This function computes the closest centroid for each example in the dataset X. It iterates over\n",
    "    each example and calculates the fidelity between the example and each centroid using the \n",
    "    calculate_fid function. Then, it assigns each example to the centroid with the highest fidelity.\n",
    "    The resulting indices of the closest centroids are stored in the idx vector and returned.\n",
    "    \"\"\"\n",
    "    fidelity = np.zeros((X.shape[0], centroids.shape[0]))\n",
    "\n",
    "    # Calculate fidelity between each example and centroid\n",
    "    for i in range(X.shape[0]):\n",
    "        for k in range(centroids.shape[0]):     \n",
    "            fidelity[i, k] = calculate_fid(encode_data(X[i][0]), encode_data(centroids[k][0]))\n",
    "\n",
    "    # Find the index of the centroid with the highest fidelity for each example\n",
    "    idx =  fidelity.argmax(axis=1) \n",
    "\n",
    "    return idx\n"
   ]
  },
  {
   "cell_type": "markdown",
   "metadata": {},
   "source": [
    "\n",
    "This code segment initializes K-means clustering with two centroids specified as [0] and [7]. The variable K indicates the number of centroids, set to 2 in this case. Then, it calls the findClosestCentroids function to determine the closest centroid for each data point in the dataset X using the initial centroids provided. The resulting centroid assignments are stored in the vector idx. Finally, it prints the centroid assignments for the first three examples in the dataset X to verify the clustering process."
   ]
  },
  {
   "cell_type": "code",
   "execution_count": 153,
   "metadata": {},
   "outputs": [
    {
     "name": "stdout",
     "output_type": "stream",
     "text": [
      "Closest centroids for the first 3 examples:\n",
      "[0 1 0]\n"
     ]
    },
    {
     "name": "stderr",
     "output_type": "stream",
     "text": [
      "C:\\Users\\Omar\\AppData\\Local\\Temp\\ipykernel_5460\\1582761814.py:32: DeprecationWarning: Conversion of an array with ndim > 0 to a scalar is deprecated, and will error in future. Ensure you extract a single element from your array before performing this operation. (Deprecated NumPy 1.25.)\n",
      "  fidelity[i, k] = calculate_fid(encode_data(X[i][0]), encode_data(centroids[k][0]))\n"
     ]
    }
   ],
   "source": [
    "# Select an initial set of centroids\n",
    "X =data\n",
    "K = 2   # 3 Centroids\n",
    "initial_centroids = np.array([[0], [7]])\n",
    "\n",
    "# Find the closest centroids for the examples using the initial_centroids\n",
    "idx = findClosestCentroids(X, initial_centroids)\n",
    "\n",
    "print('Closest centroids for the first 3 examples:')\n",
    "print(idx[:3])\n"
   ]
  },
  {
   "cell_type": "markdown",
   "metadata": {},
   "source": [
    "<a id=\"section2\"></a>\n",
    "### 3.1.2 Computing centroid means\n",
    "\n",
    "Given assignments of every point to a centroid, the second phase of the algorithm recomputes, for each centroid, the mean of the points that were assigned to it. Specifically, for every centroid $k$ we set\n",
    "\n",
    "$$ \\mu_k := \\frac{1}{\\left| C_k\\right|} \\sum_{i \\in C_k} x^{(i)}$$\n",
    "\n",
    "where $C_k$ is the set of examples that are assigned to centroid $k$. Concretely, if two examples say $x^{(3)}$ and $x^{(5)}$ are assigned to centroid $k = 2$, then you should update $\\mu_2 = \\frac{1}{2} \\left( x^{(3)} + x^{(5)} \\right)$.\n",
    "\n"
   ]
  },
  {
   "cell_type": "markdown",
   "metadata": {},
   "source": [
    "This function computeCentroids computes the centroids for K clusters based on the current centroid assignments. It takes three parameters: X, the dataset of size (m, n) where each row is a single example; idx, a vector of size (m,) where each element represents the index of the closest centroid for the corresponding example in the dataset X; and K, the number of clusters. The function initializes an array centroids to store the centroid coordinates, with each centroid having the same number of dimensions as the examples in the dataset X. Then, it iterates over each cluster, calculates the mean of the data points assigned to that cluster using np.average, and assigns the mean as the centroid coordinates for that cluster. Finally, it returns the resulting centroids."
   ]
  },
  {
   "cell_type": "code",
   "execution_count": 154,
   "metadata": {},
   "outputs": [],
   "source": [
    "def computeCentroids(X, idx, K):\n",
    "    \"\"\"\n",
    "    Compute the centroids for K clusters based on the current centroid assignments.\n",
    "    \n",
    "    Parameters\n",
    "    ----------\n",
    "    X : array_like\n",
    "        The dataset of size (m, n) where each row is a single example. \n",
    "        That is, there are m examples each of n dimensions.\n",
    "    \n",
    "    idx : array_like\n",
    "        A vector of size (m, ) where each element represents the index of the closest centroid\n",
    "        for the corresponding example in the dataset X.\n",
    "        \n",
    "    K : int\n",
    "        The number of clusters.\n",
    "    \n",
    "    Returns\n",
    "    -------\n",
    "    centroids : numpy.ndarray\n",
    "        An array of size (K, n) containing the centroids for each cluster.\n",
    "    \n",
    "    Description\n",
    "    -----------\n",
    "    This function computes the centroids for K clusters based on the current centroid assignments.\n",
    "    It initializes an array `centroids` to store the centroid coordinates, with each centroid having\n",
    "    the same number of dimensions as the examples in the dataset X. Then, it iterates over each cluster,\n",
    "    calculates the mean of the data points assigned to that cluster, and assigns the mean as the centroid\n",
    "    coordinates for that cluster. The resulting centroids are returned.\n",
    "    \"\"\"\n",
    "    centroids = np.zeros((K, X.shape[1]))\n",
    "    \n",
    "    # Compute centroids for each cluster\n",
    "    for i in range(K):\n",
    "        centroids[i, :] = np.average(X[idx == i], axis=0)\n",
    "        \n",
    "    return centroids\n"
   ]
  },
  {
   "cell_type": "code",
   "execution_count": 155,
   "metadata": {},
   "outputs": [
    {
     "name": "stdout",
     "output_type": "stream",
     "text": [
      "Centroids computed after initial finding of closest centroids:\n",
      "[[4.05904047]\n",
      " [2.10235563]]\n"
     ]
    }
   ],
   "source": [
    "# Compute means based on the closest centroids found in the previous part.\n",
    "centroids = computeCentroids(X, idx, K)\n",
    "\n",
    "print('Centroids computed after initial finding of closest centroids:')\n",
    "print(centroids)\n"
   ]
  },
  {
   "cell_type": "markdown",
   "metadata": {},
   "source": [
    "### 3.2 Random initialization \n",
    "\n",
    "The initial assignments of centroids for the example dataset in the previous cells were chosen manually but, In practice, a\n",
    "good strategy for initializing the centroids is to select random examples from the training set.\n",
    "\n"
   ]
  },
  {
   "cell_type": "markdown",
   "metadata": {},
   "source": [
    "The function kMeansInitCentroids initializes K centroids to be used in K-means clustering on the dataset X. It takes two parameters: X, the dataset of size (m x n), and K, the number of clusters. The function randomly selects K distinct data points from the dataset X as initial centroids using np.random.choice() with the parameter replace=False to ensure that each selected centroid is unique. These randomly selected data points become the initial centroids for the K-means algorithm. The function then returns these centroids as a matrix of size (K x n), where each row represents the coordinates of a centroid in the dataset's feature space. "
   ]
  },
  {
   "cell_type": "code",
   "execution_count": 156,
   "metadata": {},
   "outputs": [],
   "source": [
    "def kMeansInitCentroids(X, K):\n",
    "    \"\"\"\n",
    "    This function initializes K centroids that are to be used in K-means on the dataset x.\n",
    "    \n",
    "    Parameters\n",
    "    ----------\n",
    "    X : array_like \n",
    "        The dataset of size (m x n).\n",
    "    \n",
    "    K : int\n",
    "        The number of clusters.\n",
    "    \n",
    "    Returns\n",
    "    -------\n",
    "    centroids : array_like\n",
    "        Centroids of the clusters. This is a matrix of size (K x n).\n",
    "    \"\"\"\n",
    "    random_indices = np.random.choice(X.shape[0], size=K, replace=False)\n",
    "\n",
    "    centroids =X[random_indices, :]\n",
    "\n",
    "    return centroids"
   ]
  },
  {
   "cell_type": "markdown",
   "metadata": {},
   "source": [
    "The kMeansInitCentroids Function is applied on dataset X with number of clusters K in the code below."
   ]
  },
  {
   "cell_type": "code",
   "execution_count": 157,
   "metadata": {},
   "outputs": [
    {
     "data": {
      "text/plain": [
       "array([[3.06005005],\n",
       "       [4.62187308]])"
      ]
     },
     "execution_count": 157,
     "metadata": {},
     "output_type": "execute_result"
    }
   ],
   "source": [
    "kMeansInitCentroids(X, K)"
   ]
  },
  {
   "cell_type": "markdown",
   "metadata": {},
   "source": [
    "\n",
    "Finally the function k_means performs K-means clustering on a given dataset X. It initializes centroids using the kMeansInitCentroids function, then iteratively assigns examples to the nearest centroids and updates the centroids until convergence using the findClosestCentroids and computeCentroids functions, respectively. This process is repeated for a maximum of 100 iterations to ensure convergence. After each iteration, the silhouette score, a measure of clustering quality, is calculated using the silhouette_score function from scikit-learn. The final centroids, centroid assignments, and silhouette score with the highest value across all iterations are returned"
   ]
  },
  {
   "cell_type": "code",
   "execution_count": 158,
   "metadata": {},
   "outputs": [],
   "source": [
    "def k_means(X, K):\n",
    "    \"\"\"\n",
    "    Perform K-means clustering on the dataset X.\n",
    "\n",
    "    Parameters\n",
    "    ----------\n",
    "    X : array_like \n",
    "        The dataset of size (m x n).\n",
    "\n",
    "    K : int\n",
    "        The number of clusters.\n",
    "\n",
    "    Returns\n",
    "    -------\n",
    "    centroids_final : array_like\n",
    "        The final centroids after K-means clustering. This is a matrix of size (K x n).\n",
    "\n",
    "    idx_final : array_like\n",
    "        The final centroid assignments for each example in the dataset X. This is a vector of size (m, ).\n",
    "\n",
    "    sil_score : float\n",
    "        The silhouette score, a measure of clustering quality. Higher values indicate better clustering.\n",
    "\n",
    "    Description\n",
    "    -----------\n",
    "    This function performs K-means clustering on the dataset X. It initializes centroids using the\n",
    "    `kMeansInitCentroids` function, then iteratively assigns examples to the nearest centroids and \n",
    "    updates the centroids until convergence using the `findClosestCentroids` and `computeCentroids` \n",
    "    functions, respectively. The process is repeated for a maximum of 100 iterations. After each \n",
    "    iteration, the silhouette score is calculated using the `silhouette_score` function from scikit-learn.\n",
    "    The final centroids, centroid assignments, and silhouette score with the highest value across all \n",
    "    iterations are returned.\n",
    "    \"\"\"\n",
    "    idx_final = np.zeros((X.shape[0], 1))\n",
    "    sil_score = -1\n",
    "    centroids_final = np.zeros((K, X.shape[1]))\n",
    "    \n",
    "    # Repeat the K-means algorithm for a maximum of 100 iterations\n",
    "    for j in range(100):\n",
    "        centroids = kMeansInitCentroids(X, K)\n",
    "        \n",
    "        # Iterate until convergence\n",
    "        for i in range(100):\n",
    "            idx = findClosestCentroids(X, centroids)\n",
    "            centroids = computeCentroids(X, idx, K)\n",
    "        \n",
    "        # Calculate silhouette score\n",
    "        sil_score_curr = silhouette_score(X, idx)\n",
    "        \n",
    "        # Update final centroids, centroid assignments, and silhouette score if silhouette score improves\n",
    "        if sil_score_curr > sil_score:\n",
    "            sil_score = sil_score_curr\n",
    "            idx_final = idx\n",
    "            centroids_final = centroids\n",
    "\n",
    "    return centroids_final, idx_final, sil_score\n"
   ]
  },
  {
   "cell_type": "markdown",
   "metadata": {},
   "source": [
    "The k_means function was applied to the dataset X with a specified number of clusters K=2. It returned three outputs: centroidsComputed, cluster_idx, and sil_score, representing the final centroids after K-means clustering, the final centroid assignments for each example in the dataset X, and the silhouette score indicating the clustering quality, respectively. "
   ]
  },
  {
   "cell_type": "code",
   "execution_count": 159,
   "metadata": {},
   "outputs": [
    {
     "name": "stderr",
     "output_type": "stream",
     "text": [
      "C:\\Users\\Omar\\AppData\\Local\\Temp\\ipykernel_5460\\1582761814.py:32: DeprecationWarning: Conversion of an array with ndim > 0 to a scalar is deprecated, and will error in future. Ensure you extract a single element from your array before performing this operation. (Deprecated NumPy 1.25.)\n",
      "  fidelity[i, k] = calculate_fid(encode_data(X[i][0]), encode_data(centroids[k][0]))\n",
      "C:\\Users\\Omar\\AppData\\Local\\Temp\\ipykernel_5460\\1582761814.py:32: DeprecationWarning: Conversion of an array with ndim > 0 to a scalar is deprecated, and will error in future. Ensure you extract a single element from your array before performing this operation. (Deprecated NumPy 1.25.)\n",
      "  fidelity[i, k] = calculate_fid(encode_data(X[i][0]), encode_data(centroids[k][0]))\n",
      "C:\\Users\\Omar\\AppData\\Local\\Temp\\ipykernel_5460\\1582761814.py:32: DeprecationWarning: Conversion of an array with ndim > 0 to a scalar is deprecated, and will error in future. Ensure you extract a single element from your array before performing this operation. (Deprecated NumPy 1.25.)\n",
      "  fidelity[i, k] = calculate_fid(encode_data(X[i][0]), encode_data(centroids[k][0]))\n",
      "C:\\Users\\Omar\\AppData\\Local\\Temp\\ipykernel_5460\\1582761814.py:32: DeprecationWarning: Conversion of an array with ndim > 0 to a scalar is deprecated, and will error in future. Ensure you extract a single element from your array before performing this operation. (Deprecated NumPy 1.25.)\n",
      "  fidelity[i, k] = calculate_fid(encode_data(X[i][0]), encode_data(centroids[k][0]))\n",
      "C:\\Users\\Omar\\AppData\\Local\\Temp\\ipykernel_5460\\1582761814.py:32: DeprecationWarning: Conversion of an array with ndim > 0 to a scalar is deprecated, and will error in future. Ensure you extract a single element from your array before performing this operation. (Deprecated NumPy 1.25.)\n",
      "  fidelity[i, k] = calculate_fid(encode_data(X[i][0]), encode_data(centroids[k][0]))\n",
      "C:\\Users\\Omar\\AppData\\Local\\Temp\\ipykernel_5460\\1582761814.py:32: DeprecationWarning: Conversion of an array with ndim > 0 to a scalar is deprecated, and will error in future. Ensure you extract a single element from your array before performing this operation. (Deprecated NumPy 1.25.)\n",
      "  fidelity[i, k] = calculate_fid(encode_data(X[i][0]), encode_data(centroids[k][0]))\n",
      "C:\\Users\\Omar\\AppData\\Local\\Temp\\ipykernel_5460\\1582761814.py:32: DeprecationWarning: Conversion of an array with ndim > 0 to a scalar is deprecated, and will error in future. Ensure you extract a single element from your array before performing this operation. (Deprecated NumPy 1.25.)\n",
      "  fidelity[i, k] = calculate_fid(encode_data(X[i][0]), encode_data(centroids[k][0]))\n",
      "C:\\Users\\Omar\\AppData\\Local\\Temp\\ipykernel_5460\\1582761814.py:32: DeprecationWarning: Conversion of an array with ndim > 0 to a scalar is deprecated, and will error in future. Ensure you extract a single element from your array before performing this operation. (Deprecated NumPy 1.25.)\n",
      "  fidelity[i, k] = calculate_fid(encode_data(X[i][0]), encode_data(centroids[k][0]))\n",
      "C:\\Users\\Omar\\AppData\\Local\\Temp\\ipykernel_5460\\1582761814.py:32: DeprecationWarning: Conversion of an array with ndim > 0 to a scalar is deprecated, and will error in future. Ensure you extract a single element from your array before performing this operation. (Deprecated NumPy 1.25.)\n",
      "  fidelity[i, k] = calculate_fid(encode_data(X[i][0]), encode_data(centroids[k][0]))\n",
      "C:\\Users\\Omar\\AppData\\Local\\Temp\\ipykernel_5460\\1582761814.py:32: DeprecationWarning: Conversion of an array with ndim > 0 to a scalar is deprecated, and will error in future. Ensure you extract a single element from your array before performing this operation. (Deprecated NumPy 1.25.)\n",
      "  fidelity[i, k] = calculate_fid(encode_data(X[i][0]), encode_data(centroids[k][0]))\n",
      "C:\\Users\\Omar\\AppData\\Local\\Temp\\ipykernel_5460\\1582761814.py:32: DeprecationWarning: Conversion of an array with ndim > 0 to a scalar is deprecated, and will error in future. Ensure you extract a single element from your array before performing this operation. (Deprecated NumPy 1.25.)\n",
      "  fidelity[i, k] = calculate_fid(encode_data(X[i][0]), encode_data(centroids[k][0]))\n",
      "C:\\Users\\Omar\\AppData\\Local\\Temp\\ipykernel_5460\\1582761814.py:32: DeprecationWarning: Conversion of an array with ndim > 0 to a scalar is deprecated, and will error in future. Ensure you extract a single element from your array before performing this operation. (Deprecated NumPy 1.25.)\n",
      "  fidelity[i, k] = calculate_fid(encode_data(X[i][0]), encode_data(centroids[k][0]))\n",
      "C:\\Users\\Omar\\AppData\\Local\\Temp\\ipykernel_5460\\1582761814.py:32: DeprecationWarning: Conversion of an array with ndim > 0 to a scalar is deprecated, and will error in future. Ensure you extract a single element from your array before performing this operation. (Deprecated NumPy 1.25.)\n",
      "  fidelity[i, k] = calculate_fid(encode_data(X[i][0]), encode_data(centroids[k][0]))\n",
      "C:\\Users\\Omar\\AppData\\Local\\Temp\\ipykernel_5460\\1582761814.py:32: DeprecationWarning: Conversion of an array with ndim > 0 to a scalar is deprecated, and will error in future. Ensure you extract a single element from your array before performing this operation. (Deprecated NumPy 1.25.)\n",
      "  fidelity[i, k] = calculate_fid(encode_data(X[i][0]), encode_data(centroids[k][0]))\n",
      "C:\\Users\\Omar\\AppData\\Local\\Temp\\ipykernel_5460\\1582761814.py:32: DeprecationWarning: Conversion of an array with ndim > 0 to a scalar is deprecated, and will error in future. Ensure you extract a single element from your array before performing this operation. (Deprecated NumPy 1.25.)\n",
      "  fidelity[i, k] = calculate_fid(encode_data(X[i][0]), encode_data(centroids[k][0]))\n",
      "C:\\Users\\Omar\\AppData\\Local\\Temp\\ipykernel_5460\\1582761814.py:32: DeprecationWarning: Conversion of an array with ndim > 0 to a scalar is deprecated, and will error in future. Ensure you extract a single element from your array before performing this operation. (Deprecated NumPy 1.25.)\n",
      "  fidelity[i, k] = calculate_fid(encode_data(X[i][0]), encode_data(centroids[k][0]))\n",
      "C:\\Users\\Omar\\AppData\\Local\\Temp\\ipykernel_5460\\1582761814.py:32: DeprecationWarning: Conversion of an array with ndim > 0 to a scalar is deprecated, and will error in future. Ensure you extract a single element from your array before performing this operation. (Deprecated NumPy 1.25.)\n",
      "  fidelity[i, k] = calculate_fid(encode_data(X[i][0]), encode_data(centroids[k][0]))\n",
      "C:\\Users\\Omar\\AppData\\Local\\Temp\\ipykernel_5460\\1582761814.py:32: DeprecationWarning: Conversion of an array with ndim > 0 to a scalar is deprecated, and will error in future. Ensure you extract a single element from your array before performing this operation. (Deprecated NumPy 1.25.)\n",
      "  fidelity[i, k] = calculate_fid(encode_data(X[i][0]), encode_data(centroids[k][0]))\n",
      "C:\\Users\\Omar\\AppData\\Local\\Temp\\ipykernel_5460\\1582761814.py:32: DeprecationWarning: Conversion of an array with ndim > 0 to a scalar is deprecated, and will error in future. Ensure you extract a single element from your array before performing this operation. (Deprecated NumPy 1.25.)\n",
      "  fidelity[i, k] = calculate_fid(encode_data(X[i][0]), encode_data(centroids[k][0]))\n",
      "C:\\Users\\Omar\\AppData\\Local\\Temp\\ipykernel_5460\\1582761814.py:32: DeprecationWarning: Conversion of an array with ndim > 0 to a scalar is deprecated, and will error in future. Ensure you extract a single element from your array before performing this operation. (Deprecated NumPy 1.25.)\n",
      "  fidelity[i, k] = calculate_fid(encode_data(X[i][0]), encode_data(centroids[k][0]))\n",
      "C:\\Users\\Omar\\AppData\\Local\\Temp\\ipykernel_5460\\1582761814.py:32: DeprecationWarning: Conversion of an array with ndim > 0 to a scalar is deprecated, and will error in future. Ensure you extract a single element from your array before performing this operation. (Deprecated NumPy 1.25.)\n",
      "  fidelity[i, k] = calculate_fid(encode_data(X[i][0]), encode_data(centroids[k][0]))\n",
      "C:\\Users\\Omar\\AppData\\Local\\Temp\\ipykernel_5460\\1582761814.py:32: DeprecationWarning: Conversion of an array with ndim > 0 to a scalar is deprecated, and will error in future. Ensure you extract a single element from your array before performing this operation. (Deprecated NumPy 1.25.)\n",
      "  fidelity[i, k] = calculate_fid(encode_data(X[i][0]), encode_data(centroids[k][0]))\n",
      "C:\\Users\\Omar\\AppData\\Local\\Temp\\ipykernel_5460\\1582761814.py:32: DeprecationWarning: Conversion of an array with ndim > 0 to a scalar is deprecated, and will error in future. Ensure you extract a single element from your array before performing this operation. (Deprecated NumPy 1.25.)\n",
      "  fidelity[i, k] = calculate_fid(encode_data(X[i][0]), encode_data(centroids[k][0]))\n",
      "C:\\Users\\Omar\\AppData\\Local\\Temp\\ipykernel_5460\\1582761814.py:32: DeprecationWarning: Conversion of an array with ndim > 0 to a scalar is deprecated, and will error in future. Ensure you extract a single element from your array before performing this operation. (Deprecated NumPy 1.25.)\n",
      "  fidelity[i, k] = calculate_fid(encode_data(X[i][0]), encode_data(centroids[k][0]))\n",
      "C:\\Users\\Omar\\AppData\\Local\\Temp\\ipykernel_5460\\1582761814.py:32: DeprecationWarning: Conversion of an array with ndim > 0 to a scalar is deprecated, and will error in future. Ensure you extract a single element from your array before performing this operation. (Deprecated NumPy 1.25.)\n",
      "  fidelity[i, k] = calculate_fid(encode_data(X[i][0]), encode_data(centroids[k][0]))\n",
      "C:\\Users\\Omar\\AppData\\Local\\Temp\\ipykernel_5460\\1582761814.py:32: DeprecationWarning: Conversion of an array with ndim > 0 to a scalar is deprecated, and will error in future. Ensure you extract a single element from your array before performing this operation. (Deprecated NumPy 1.25.)\n",
      "  fidelity[i, k] = calculate_fid(encode_data(X[i][0]), encode_data(centroids[k][0]))\n",
      "C:\\Users\\Omar\\AppData\\Local\\Temp\\ipykernel_5460\\1582761814.py:32: DeprecationWarning: Conversion of an array with ndim > 0 to a scalar is deprecated, and will error in future. Ensure you extract a single element from your array before performing this operation. (Deprecated NumPy 1.25.)\n",
      "  fidelity[i, k] = calculate_fid(encode_data(X[i][0]), encode_data(centroids[k][0]))\n",
      "C:\\Users\\Omar\\AppData\\Local\\Temp\\ipykernel_5460\\1582761814.py:32: DeprecationWarning: Conversion of an array with ndim > 0 to a scalar is deprecated, and will error in future. Ensure you extract a single element from your array before performing this operation. (Deprecated NumPy 1.25.)\n",
      "  fidelity[i, k] = calculate_fid(encode_data(X[i][0]), encode_data(centroids[k][0]))\n",
      "C:\\Users\\Omar\\AppData\\Local\\Temp\\ipykernel_5460\\1582761814.py:32: DeprecationWarning: Conversion of an array with ndim > 0 to a scalar is deprecated, and will error in future. Ensure you extract a single element from your array before performing this operation. (Deprecated NumPy 1.25.)\n",
      "  fidelity[i, k] = calculate_fid(encode_data(X[i][0]), encode_data(centroids[k][0]))\n",
      "C:\\Users\\Omar\\AppData\\Local\\Temp\\ipykernel_5460\\1582761814.py:32: DeprecationWarning: Conversion of an array with ndim > 0 to a scalar is deprecated, and will error in future. Ensure you extract a single element from your array before performing this operation. (Deprecated NumPy 1.25.)\n",
      "  fidelity[i, k] = calculate_fid(encode_data(X[i][0]), encode_data(centroids[k][0]))\n",
      "C:\\Users\\Omar\\AppData\\Local\\Temp\\ipykernel_5460\\1582761814.py:32: DeprecationWarning: Conversion of an array with ndim > 0 to a scalar is deprecated, and will error in future. Ensure you extract a single element from your array before performing this operation. (Deprecated NumPy 1.25.)\n",
      "  fidelity[i, k] = calculate_fid(encode_data(X[i][0]), encode_data(centroids[k][0]))\n",
      "C:\\Users\\Omar\\AppData\\Local\\Temp\\ipykernel_5460\\1582761814.py:32: DeprecationWarning: Conversion of an array with ndim > 0 to a scalar is deprecated, and will error in future. Ensure you extract a single element from your array before performing this operation. (Deprecated NumPy 1.25.)\n",
      "  fidelity[i, k] = calculate_fid(encode_data(X[i][0]), encode_data(centroids[k][0]))\n",
      "C:\\Users\\Omar\\AppData\\Local\\Temp\\ipykernel_5460\\1582761814.py:32: DeprecationWarning: Conversion of an array with ndim > 0 to a scalar is deprecated, and will error in future. Ensure you extract a single element from your array before performing this operation. (Deprecated NumPy 1.25.)\n",
      "  fidelity[i, k] = calculate_fid(encode_data(X[i][0]), encode_data(centroids[k][0]))\n",
      "C:\\Users\\Omar\\AppData\\Local\\Temp\\ipykernel_5460\\1582761814.py:32: DeprecationWarning: Conversion of an array with ndim > 0 to a scalar is deprecated, and will error in future. Ensure you extract a single element from your array before performing this operation. (Deprecated NumPy 1.25.)\n",
      "  fidelity[i, k] = calculate_fid(encode_data(X[i][0]), encode_data(centroids[k][0]))\n",
      "C:\\Users\\Omar\\AppData\\Local\\Temp\\ipykernel_5460\\1582761814.py:32: DeprecationWarning: Conversion of an array with ndim > 0 to a scalar is deprecated, and will error in future. Ensure you extract a single element from your array before performing this operation. (Deprecated NumPy 1.25.)\n",
      "  fidelity[i, k] = calculate_fid(encode_data(X[i][0]), encode_data(centroids[k][0]))\n",
      "C:\\Users\\Omar\\AppData\\Local\\Temp\\ipykernel_5460\\1582761814.py:32: DeprecationWarning: Conversion of an array with ndim > 0 to a scalar is deprecated, and will error in future. Ensure you extract a single element from your array before performing this operation. (Deprecated NumPy 1.25.)\n",
      "  fidelity[i, k] = calculate_fid(encode_data(X[i][0]), encode_data(centroids[k][0]))\n",
      "C:\\Users\\Omar\\AppData\\Local\\Temp\\ipykernel_5460\\1582761814.py:32: DeprecationWarning: Conversion of an array with ndim > 0 to a scalar is deprecated, and will error in future. Ensure you extract a single element from your array before performing this operation. (Deprecated NumPy 1.25.)\n",
      "  fidelity[i, k] = calculate_fid(encode_data(X[i][0]), encode_data(centroids[k][0]))\n",
      "C:\\Users\\Omar\\AppData\\Local\\Temp\\ipykernel_5460\\1582761814.py:32: DeprecationWarning: Conversion of an array with ndim > 0 to a scalar is deprecated, and will error in future. Ensure you extract a single element from your array before performing this operation. (Deprecated NumPy 1.25.)\n",
      "  fidelity[i, k] = calculate_fid(encode_data(X[i][0]), encode_data(centroids[k][0]))\n",
      "C:\\Users\\Omar\\AppData\\Local\\Temp\\ipykernel_5460\\1582761814.py:32: DeprecationWarning: Conversion of an array with ndim > 0 to a scalar is deprecated, and will error in future. Ensure you extract a single element from your array before performing this operation. (Deprecated NumPy 1.25.)\n",
      "  fidelity[i, k] = calculate_fid(encode_data(X[i][0]), encode_data(centroids[k][0]))\n",
      "C:\\Users\\Omar\\AppData\\Local\\Temp\\ipykernel_5460\\1582761814.py:32: DeprecationWarning: Conversion of an array with ndim > 0 to a scalar is deprecated, and will error in future. Ensure you extract a single element from your array before performing this operation. (Deprecated NumPy 1.25.)\n",
      "  fidelity[i, k] = calculate_fid(encode_data(X[i][0]), encode_data(centroids[k][0]))\n",
      "C:\\Users\\Omar\\AppData\\Local\\Temp\\ipykernel_5460\\1582761814.py:32: DeprecationWarning: Conversion of an array with ndim > 0 to a scalar is deprecated, and will error in future. Ensure you extract a single element from your array before performing this operation. (Deprecated NumPy 1.25.)\n",
      "  fidelity[i, k] = calculate_fid(encode_data(X[i][0]), encode_data(centroids[k][0]))\n",
      "C:\\Users\\Omar\\AppData\\Local\\Temp\\ipykernel_5460\\1582761814.py:32: DeprecationWarning: Conversion of an array with ndim > 0 to a scalar is deprecated, and will error in future. Ensure you extract a single element from your array before performing this operation. (Deprecated NumPy 1.25.)\n",
      "  fidelity[i, k] = calculate_fid(encode_data(X[i][0]), encode_data(centroids[k][0]))\n",
      "C:\\Users\\Omar\\AppData\\Local\\Temp\\ipykernel_5460\\1582761814.py:32: DeprecationWarning: Conversion of an array with ndim > 0 to a scalar is deprecated, and will error in future. Ensure you extract a single element from your array before performing this operation. (Deprecated NumPy 1.25.)\n",
      "  fidelity[i, k] = calculate_fid(encode_data(X[i][0]), encode_data(centroids[k][0]))\n",
      "C:\\Users\\Omar\\AppData\\Local\\Temp\\ipykernel_5460\\1582761814.py:32: DeprecationWarning: Conversion of an array with ndim > 0 to a scalar is deprecated, and will error in future. Ensure you extract a single element from your array before performing this operation. (Deprecated NumPy 1.25.)\n",
      "  fidelity[i, k] = calculate_fid(encode_data(X[i][0]), encode_data(centroids[k][0]))\n",
      "C:\\Users\\Omar\\AppData\\Local\\Temp\\ipykernel_5460\\1582761814.py:32: DeprecationWarning: Conversion of an array with ndim > 0 to a scalar is deprecated, and will error in future. Ensure you extract a single element from your array before performing this operation. (Deprecated NumPy 1.25.)\n",
      "  fidelity[i, k] = calculate_fid(encode_data(X[i][0]), encode_data(centroids[k][0]))\n",
      "C:\\Users\\Omar\\AppData\\Local\\Temp\\ipykernel_5460\\1582761814.py:32: DeprecationWarning: Conversion of an array with ndim > 0 to a scalar is deprecated, and will error in future. Ensure you extract a single element from your array before performing this operation. (Deprecated NumPy 1.25.)\n",
      "  fidelity[i, k] = calculate_fid(encode_data(X[i][0]), encode_data(centroids[k][0]))\n",
      "C:\\Users\\Omar\\AppData\\Local\\Temp\\ipykernel_5460\\1582761814.py:32: DeprecationWarning: Conversion of an array with ndim > 0 to a scalar is deprecated, and will error in future. Ensure you extract a single element from your array before performing this operation. (Deprecated NumPy 1.25.)\n",
      "  fidelity[i, k] = calculate_fid(encode_data(X[i][0]), encode_data(centroids[k][0]))\n",
      "C:\\Users\\Omar\\AppData\\Local\\Temp\\ipykernel_5460\\1582761814.py:32: DeprecationWarning: Conversion of an array with ndim > 0 to a scalar is deprecated, and will error in future. Ensure you extract a single element from your array before performing this operation. (Deprecated NumPy 1.25.)\n",
      "  fidelity[i, k] = calculate_fid(encode_data(X[i][0]), encode_data(centroids[k][0]))\n",
      "C:\\Users\\Omar\\AppData\\Local\\Temp\\ipykernel_5460\\1582761814.py:32: DeprecationWarning: Conversion of an array with ndim > 0 to a scalar is deprecated, and will error in future. Ensure you extract a single element from your array before performing this operation. (Deprecated NumPy 1.25.)\n",
      "  fidelity[i, k] = calculate_fid(encode_data(X[i][0]), encode_data(centroids[k][0]))\n",
      "C:\\Users\\Omar\\AppData\\Local\\Temp\\ipykernel_5460\\1582761814.py:32: DeprecationWarning: Conversion of an array with ndim > 0 to a scalar is deprecated, and will error in future. Ensure you extract a single element from your array before performing this operation. (Deprecated NumPy 1.25.)\n",
      "  fidelity[i, k] = calculate_fid(encode_data(X[i][0]), encode_data(centroids[k][0]))\n",
      "C:\\Users\\Omar\\AppData\\Local\\Temp\\ipykernel_5460\\1582761814.py:32: DeprecationWarning: Conversion of an array with ndim > 0 to a scalar is deprecated, and will error in future. Ensure you extract a single element from your array before performing this operation. (Deprecated NumPy 1.25.)\n",
      "  fidelity[i, k] = calculate_fid(encode_data(X[i][0]), encode_data(centroids[k][0]))\n",
      "C:\\Users\\Omar\\AppData\\Local\\Temp\\ipykernel_5460\\1582761814.py:32: DeprecationWarning: Conversion of an array with ndim > 0 to a scalar is deprecated, and will error in future. Ensure you extract a single element from your array before performing this operation. (Deprecated NumPy 1.25.)\n",
      "  fidelity[i, k] = calculate_fid(encode_data(X[i][0]), encode_data(centroids[k][0]))\n",
      "C:\\Users\\Omar\\AppData\\Local\\Temp\\ipykernel_5460\\1582761814.py:32: DeprecationWarning: Conversion of an array with ndim > 0 to a scalar is deprecated, and will error in future. Ensure you extract a single element from your array before performing this operation. (Deprecated NumPy 1.25.)\n",
      "  fidelity[i, k] = calculate_fid(encode_data(X[i][0]), encode_data(centroids[k][0]))\n",
      "C:\\Users\\Omar\\AppData\\Local\\Temp\\ipykernel_5460\\1582761814.py:32: DeprecationWarning: Conversion of an array with ndim > 0 to a scalar is deprecated, and will error in future. Ensure you extract a single element from your array before performing this operation. (Deprecated NumPy 1.25.)\n",
      "  fidelity[i, k] = calculate_fid(encode_data(X[i][0]), encode_data(centroids[k][0]))\n",
      "C:\\Users\\Omar\\AppData\\Local\\Temp\\ipykernel_5460\\1582761814.py:32: DeprecationWarning: Conversion of an array with ndim > 0 to a scalar is deprecated, and will error in future. Ensure you extract a single element from your array before performing this operation. (Deprecated NumPy 1.25.)\n",
      "  fidelity[i, k] = calculate_fid(encode_data(X[i][0]), encode_data(centroids[k][0]))\n",
      "C:\\Users\\Omar\\AppData\\Local\\Temp\\ipykernel_5460\\1582761814.py:32: DeprecationWarning: Conversion of an array with ndim > 0 to a scalar is deprecated, and will error in future. Ensure you extract a single element from your array before performing this operation. (Deprecated NumPy 1.25.)\n",
      "  fidelity[i, k] = calculate_fid(encode_data(X[i][0]), encode_data(centroids[k][0]))\n",
      "C:\\Users\\Omar\\AppData\\Local\\Temp\\ipykernel_5460\\1582761814.py:32: DeprecationWarning: Conversion of an array with ndim > 0 to a scalar is deprecated, and will error in future. Ensure you extract a single element from your array before performing this operation. (Deprecated NumPy 1.25.)\n",
      "  fidelity[i, k] = calculate_fid(encode_data(X[i][0]), encode_data(centroids[k][0]))\n",
      "C:\\Users\\Omar\\AppData\\Local\\Temp\\ipykernel_5460\\1582761814.py:32: DeprecationWarning: Conversion of an array with ndim > 0 to a scalar is deprecated, and will error in future. Ensure you extract a single element from your array before performing this operation. (Deprecated NumPy 1.25.)\n",
      "  fidelity[i, k] = calculate_fid(encode_data(X[i][0]), encode_data(centroids[k][0]))\n",
      "C:\\Users\\Omar\\AppData\\Local\\Temp\\ipykernel_5460\\1582761814.py:32: DeprecationWarning: Conversion of an array with ndim > 0 to a scalar is deprecated, and will error in future. Ensure you extract a single element from your array before performing this operation. (Deprecated NumPy 1.25.)\n",
      "  fidelity[i, k] = calculate_fid(encode_data(X[i][0]), encode_data(centroids[k][0]))\n",
      "C:\\Users\\Omar\\AppData\\Local\\Temp\\ipykernel_5460\\1582761814.py:32: DeprecationWarning: Conversion of an array with ndim > 0 to a scalar is deprecated, and will error in future. Ensure you extract a single element from your array before performing this operation. (Deprecated NumPy 1.25.)\n",
      "  fidelity[i, k] = calculate_fid(encode_data(X[i][0]), encode_data(centroids[k][0]))\n",
      "C:\\Users\\Omar\\AppData\\Local\\Temp\\ipykernel_5460\\1582761814.py:32: DeprecationWarning: Conversion of an array with ndim > 0 to a scalar is deprecated, and will error in future. Ensure you extract a single element from your array before performing this operation. (Deprecated NumPy 1.25.)\n",
      "  fidelity[i, k] = calculate_fid(encode_data(X[i][0]), encode_data(centroids[k][0]))\n",
      "C:\\Users\\Omar\\AppData\\Local\\Temp\\ipykernel_5460\\1582761814.py:32: DeprecationWarning: Conversion of an array with ndim > 0 to a scalar is deprecated, and will error in future. Ensure you extract a single element from your array before performing this operation. (Deprecated NumPy 1.25.)\n",
      "  fidelity[i, k] = calculate_fid(encode_data(X[i][0]), encode_data(centroids[k][0]))\n",
      "C:\\Users\\Omar\\AppData\\Local\\Temp\\ipykernel_5460\\1582761814.py:32: DeprecationWarning: Conversion of an array with ndim > 0 to a scalar is deprecated, and will error in future. Ensure you extract a single element from your array before performing this operation. (Deprecated NumPy 1.25.)\n",
      "  fidelity[i, k] = calculate_fid(encode_data(X[i][0]), encode_data(centroids[k][0]))\n",
      "C:\\Users\\Omar\\AppData\\Local\\Temp\\ipykernel_5460\\1582761814.py:32: DeprecationWarning: Conversion of an array with ndim > 0 to a scalar is deprecated, and will error in future. Ensure you extract a single element from your array before performing this operation. (Deprecated NumPy 1.25.)\n",
      "  fidelity[i, k] = calculate_fid(encode_data(X[i][0]), encode_data(centroids[k][0]))\n",
      "C:\\Users\\Omar\\AppData\\Local\\Temp\\ipykernel_5460\\1582761814.py:32: DeprecationWarning: Conversion of an array with ndim > 0 to a scalar is deprecated, and will error in future. Ensure you extract a single element from your array before performing this operation. (Deprecated NumPy 1.25.)\n",
      "  fidelity[i, k] = calculate_fid(encode_data(X[i][0]), encode_data(centroids[k][0]))\n",
      "C:\\Users\\Omar\\AppData\\Local\\Temp\\ipykernel_5460\\1582761814.py:32: DeprecationWarning: Conversion of an array with ndim > 0 to a scalar is deprecated, and will error in future. Ensure you extract a single element from your array before performing this operation. (Deprecated NumPy 1.25.)\n",
      "  fidelity[i, k] = calculate_fid(encode_data(X[i][0]), encode_data(centroids[k][0]))\n",
      "C:\\Users\\Omar\\AppData\\Local\\Temp\\ipykernel_5460\\1582761814.py:32: DeprecationWarning: Conversion of an array with ndim > 0 to a scalar is deprecated, and will error in future. Ensure you extract a single element from your array before performing this operation. (Deprecated NumPy 1.25.)\n",
      "  fidelity[i, k] = calculate_fid(encode_data(X[i][0]), encode_data(centroids[k][0]))\n",
      "C:\\Users\\Omar\\AppData\\Local\\Temp\\ipykernel_5460\\1582761814.py:32: DeprecationWarning: Conversion of an array with ndim > 0 to a scalar is deprecated, and will error in future. Ensure you extract a single element from your array before performing this operation. (Deprecated NumPy 1.25.)\n",
      "  fidelity[i, k] = calculate_fid(encode_data(X[i][0]), encode_data(centroids[k][0]))\n",
      "C:\\Users\\Omar\\AppData\\Local\\Temp\\ipykernel_5460\\1582761814.py:32: DeprecationWarning: Conversion of an array with ndim > 0 to a scalar is deprecated, and will error in future. Ensure you extract a single element from your array before performing this operation. (Deprecated NumPy 1.25.)\n",
      "  fidelity[i, k] = calculate_fid(encode_data(X[i][0]), encode_data(centroids[k][0]))\n",
      "C:\\Users\\Omar\\AppData\\Local\\Temp\\ipykernel_5460\\1582761814.py:32: DeprecationWarning: Conversion of an array with ndim > 0 to a scalar is deprecated, and will error in future. Ensure you extract a single element from your array before performing this operation. (Deprecated NumPy 1.25.)\n",
      "  fidelity[i, k] = calculate_fid(encode_data(X[i][0]), encode_data(centroids[k][0]))\n",
      "C:\\Users\\Omar\\AppData\\Local\\Temp\\ipykernel_5460\\1582761814.py:32: DeprecationWarning: Conversion of an array with ndim > 0 to a scalar is deprecated, and will error in future. Ensure you extract a single element from your array before performing this operation. (Deprecated NumPy 1.25.)\n",
      "  fidelity[i, k] = calculate_fid(encode_data(X[i][0]), encode_data(centroids[k][0]))\n",
      "C:\\Users\\Omar\\AppData\\Local\\Temp\\ipykernel_5460\\1582761814.py:32: DeprecationWarning: Conversion of an array with ndim > 0 to a scalar is deprecated, and will error in future. Ensure you extract a single element from your array before performing this operation. (Deprecated NumPy 1.25.)\n",
      "  fidelity[i, k] = calculate_fid(encode_data(X[i][0]), encode_data(centroids[k][0]))\n",
      "C:\\Users\\Omar\\AppData\\Local\\Temp\\ipykernel_5460\\1582761814.py:32: DeprecationWarning: Conversion of an array with ndim > 0 to a scalar is deprecated, and will error in future. Ensure you extract a single element from your array before performing this operation. (Deprecated NumPy 1.25.)\n",
      "  fidelity[i, k] = calculate_fid(encode_data(X[i][0]), encode_data(centroids[k][0]))\n",
      "C:\\Users\\Omar\\AppData\\Local\\Temp\\ipykernel_5460\\1582761814.py:32: DeprecationWarning: Conversion of an array with ndim > 0 to a scalar is deprecated, and will error in future. Ensure you extract a single element from your array before performing this operation. (Deprecated NumPy 1.25.)\n",
      "  fidelity[i, k] = calculate_fid(encode_data(X[i][0]), encode_data(centroids[k][0]))\n",
      "C:\\Users\\Omar\\AppData\\Local\\Temp\\ipykernel_5460\\1582761814.py:32: DeprecationWarning: Conversion of an array with ndim > 0 to a scalar is deprecated, and will error in future. Ensure you extract a single element from your array before performing this operation. (Deprecated NumPy 1.25.)\n",
      "  fidelity[i, k] = calculate_fid(encode_data(X[i][0]), encode_data(centroids[k][0]))\n",
      "C:\\Users\\Omar\\AppData\\Local\\Temp\\ipykernel_5460\\1582761814.py:32: DeprecationWarning: Conversion of an array with ndim > 0 to a scalar is deprecated, and will error in future. Ensure you extract a single element from your array before performing this operation. (Deprecated NumPy 1.25.)\n",
      "  fidelity[i, k] = calculate_fid(encode_data(X[i][0]), encode_data(centroids[k][0]))\n",
      "C:\\Users\\Omar\\AppData\\Local\\Temp\\ipykernel_5460\\1582761814.py:32: DeprecationWarning: Conversion of an array with ndim > 0 to a scalar is deprecated, and will error in future. Ensure you extract a single element from your array before performing this operation. (Deprecated NumPy 1.25.)\n",
      "  fidelity[i, k] = calculate_fid(encode_data(X[i][0]), encode_data(centroids[k][0]))\n",
      "C:\\Users\\Omar\\AppData\\Local\\Temp\\ipykernel_5460\\1582761814.py:32: DeprecationWarning: Conversion of an array with ndim > 0 to a scalar is deprecated, and will error in future. Ensure you extract a single element from your array before performing this operation. (Deprecated NumPy 1.25.)\n",
      "  fidelity[i, k] = calculate_fid(encode_data(X[i][0]), encode_data(centroids[k][0]))\n",
      "C:\\Users\\Omar\\AppData\\Local\\Temp\\ipykernel_5460\\1582761814.py:32: DeprecationWarning: Conversion of an array with ndim > 0 to a scalar is deprecated, and will error in future. Ensure you extract a single element from your array before performing this operation. (Deprecated NumPy 1.25.)\n",
      "  fidelity[i, k] = calculate_fid(encode_data(X[i][0]), encode_data(centroids[k][0]))\n",
      "C:\\Users\\Omar\\AppData\\Local\\Temp\\ipykernel_5460\\1582761814.py:32: DeprecationWarning: Conversion of an array with ndim > 0 to a scalar is deprecated, and will error in future. Ensure you extract a single element from your array before performing this operation. (Deprecated NumPy 1.25.)\n",
      "  fidelity[i, k] = calculate_fid(encode_data(X[i][0]), encode_data(centroids[k][0]))\n",
      "C:\\Users\\Omar\\AppData\\Local\\Temp\\ipykernel_5460\\1582761814.py:32: DeprecationWarning: Conversion of an array with ndim > 0 to a scalar is deprecated, and will error in future. Ensure you extract a single element from your array before performing this operation. (Deprecated NumPy 1.25.)\n",
      "  fidelity[i, k] = calculate_fid(encode_data(X[i][0]), encode_data(centroids[k][0]))\n",
      "C:\\Users\\Omar\\AppData\\Local\\Temp\\ipykernel_5460\\1582761814.py:32: DeprecationWarning: Conversion of an array with ndim > 0 to a scalar is deprecated, and will error in future. Ensure you extract a single element from your array before performing this operation. (Deprecated NumPy 1.25.)\n",
      "  fidelity[i, k] = calculate_fid(encode_data(X[i][0]), encode_data(centroids[k][0]))\n",
      "C:\\Users\\Omar\\AppData\\Local\\Temp\\ipykernel_5460\\1582761814.py:32: DeprecationWarning: Conversion of an array with ndim > 0 to a scalar is deprecated, and will error in future. Ensure you extract a single element from your array before performing this operation. (Deprecated NumPy 1.25.)\n",
      "  fidelity[i, k] = calculate_fid(encode_data(X[i][0]), encode_data(centroids[k][0]))\n",
      "C:\\Users\\Omar\\AppData\\Local\\Temp\\ipykernel_5460\\1582761814.py:32: DeprecationWarning: Conversion of an array with ndim > 0 to a scalar is deprecated, and will error in future. Ensure you extract a single element from your array before performing this operation. (Deprecated NumPy 1.25.)\n",
      "  fidelity[i, k] = calculate_fid(encode_data(X[i][0]), encode_data(centroids[k][0]))\n",
      "C:\\Users\\Omar\\AppData\\Local\\Temp\\ipykernel_5460\\1582761814.py:32: DeprecationWarning: Conversion of an array with ndim > 0 to a scalar is deprecated, and will error in future. Ensure you extract a single element from your array before performing this operation. (Deprecated NumPy 1.25.)\n",
      "  fidelity[i, k] = calculate_fid(encode_data(X[i][0]), encode_data(centroids[k][0]))\n",
      "C:\\Users\\Omar\\AppData\\Local\\Temp\\ipykernel_5460\\1582761814.py:32: DeprecationWarning: Conversion of an array with ndim > 0 to a scalar is deprecated, and will error in future. Ensure you extract a single element from your array before performing this operation. (Deprecated NumPy 1.25.)\n",
      "  fidelity[i, k] = calculate_fid(encode_data(X[i][0]), encode_data(centroids[k][0]))\n",
      "C:\\Users\\Omar\\AppData\\Local\\Temp\\ipykernel_5460\\1582761814.py:32: DeprecationWarning: Conversion of an array with ndim > 0 to a scalar is deprecated, and will error in future. Ensure you extract a single element from your array before performing this operation. (Deprecated NumPy 1.25.)\n",
      "  fidelity[i, k] = calculate_fid(encode_data(X[i][0]), encode_data(centroids[k][0]))\n",
      "C:\\Users\\Omar\\AppData\\Local\\Temp\\ipykernel_5460\\1582761814.py:32: DeprecationWarning: Conversion of an array with ndim > 0 to a scalar is deprecated, and will error in future. Ensure you extract a single element from your array before performing this operation. (Deprecated NumPy 1.25.)\n",
      "  fidelity[i, k] = calculate_fid(encode_data(X[i][0]), encode_data(centroids[k][0]))\n",
      "C:\\Users\\Omar\\AppData\\Local\\Temp\\ipykernel_5460\\1582761814.py:32: DeprecationWarning: Conversion of an array with ndim > 0 to a scalar is deprecated, and will error in future. Ensure you extract a single element from your array before performing this operation. (Deprecated NumPy 1.25.)\n",
      "  fidelity[i, k] = calculate_fid(encode_data(X[i][0]), encode_data(centroids[k][0]))\n",
      "C:\\Users\\Omar\\AppData\\Local\\Temp\\ipykernel_5460\\1582761814.py:32: DeprecationWarning: Conversion of an array with ndim > 0 to a scalar is deprecated, and will error in future. Ensure you extract a single element from your array before performing this operation. (Deprecated NumPy 1.25.)\n",
      "  fidelity[i, k] = calculate_fid(encode_data(X[i][0]), encode_data(centroids[k][0]))\n",
      "C:\\Users\\Omar\\AppData\\Local\\Temp\\ipykernel_5460\\1582761814.py:32: DeprecationWarning: Conversion of an array with ndim > 0 to a scalar is deprecated, and will error in future. Ensure you extract a single element from your array before performing this operation. (Deprecated NumPy 1.25.)\n",
      "  fidelity[i, k] = calculate_fid(encode_data(X[i][0]), encode_data(centroids[k][0]))\n",
      "C:\\Users\\Omar\\AppData\\Local\\Temp\\ipykernel_5460\\1582761814.py:32: DeprecationWarning: Conversion of an array with ndim > 0 to a scalar is deprecated, and will error in future. Ensure you extract a single element from your array before performing this operation. (Deprecated NumPy 1.25.)\n",
      "  fidelity[i, k] = calculate_fid(encode_data(X[i][0]), encode_data(centroids[k][0]))\n",
      "C:\\Users\\Omar\\AppData\\Local\\Temp\\ipykernel_5460\\1582761814.py:32: DeprecationWarning: Conversion of an array with ndim > 0 to a scalar is deprecated, and will error in future. Ensure you extract a single element from your array before performing this operation. (Deprecated NumPy 1.25.)\n",
      "  fidelity[i, k] = calculate_fid(encode_data(X[i][0]), encode_data(centroids[k][0]))\n",
      "C:\\Users\\Omar\\AppData\\Local\\Temp\\ipykernel_5460\\1582761814.py:32: DeprecationWarning: Conversion of an array with ndim > 0 to a scalar is deprecated, and will error in future. Ensure you extract a single element from your array before performing this operation. (Deprecated NumPy 1.25.)\n",
      "  fidelity[i, k] = calculate_fid(encode_data(X[i][0]), encode_data(centroids[k][0]))\n",
      "C:\\Users\\Omar\\AppData\\Local\\Temp\\ipykernel_5460\\1582761814.py:32: DeprecationWarning: Conversion of an array with ndim > 0 to a scalar is deprecated, and will error in future. Ensure you extract a single element from your array before performing this operation. (Deprecated NumPy 1.25.)\n",
      "  fidelity[i, k] = calculate_fid(encode_data(X[i][0]), encode_data(centroids[k][0]))\n",
      "C:\\Users\\Omar\\AppData\\Local\\Temp\\ipykernel_5460\\1582761814.py:32: DeprecationWarning: Conversion of an array with ndim > 0 to a scalar is deprecated, and will error in future. Ensure you extract a single element from your array before performing this operation. (Deprecated NumPy 1.25.)\n",
      "  fidelity[i, k] = calculate_fid(encode_data(X[i][0]), encode_data(centroids[k][0]))\n",
      "C:\\Users\\Omar\\AppData\\Local\\Temp\\ipykernel_5460\\1582761814.py:32: DeprecationWarning: Conversion of an array with ndim > 0 to a scalar is deprecated, and will error in future. Ensure you extract a single element from your array before performing this operation. (Deprecated NumPy 1.25.)\n",
      "  fidelity[i, k] = calculate_fid(encode_data(X[i][0]), encode_data(centroids[k][0]))\n",
      "C:\\Users\\Omar\\AppData\\Local\\Temp\\ipykernel_5460\\1582761814.py:32: DeprecationWarning: Conversion of an array with ndim > 0 to a scalar is deprecated, and will error in future. Ensure you extract a single element from your array before performing this operation. (Deprecated NumPy 1.25.)\n",
      "  fidelity[i, k] = calculate_fid(encode_data(X[i][0]), encode_data(centroids[k][0]))\n",
      "C:\\Users\\Omar\\AppData\\Local\\Temp\\ipykernel_5460\\1582761814.py:32: DeprecationWarning: Conversion of an array with ndim > 0 to a scalar is deprecated, and will error in future. Ensure you extract a single element from your array before performing this operation. (Deprecated NumPy 1.25.)\n",
      "  fidelity[i, k] = calculate_fid(encode_data(X[i][0]), encode_data(centroids[k][0]))\n",
      "C:\\Users\\Omar\\AppData\\Local\\Temp\\ipykernel_5460\\1582761814.py:32: DeprecationWarning: Conversion of an array with ndim > 0 to a scalar is deprecated, and will error in future. Ensure you extract a single element from your array before performing this operation. (Deprecated NumPy 1.25.)\n",
      "  fidelity[i, k] = calculate_fid(encode_data(X[i][0]), encode_data(centroids[k][0]))\n"
     ]
    }
   ],
   "source": [
    "centroidsComputed,cluster_idx,sil_score=k_means(X,2)\n"
   ]
  },
  {
   "cell_type": "code",
   "execution_count": 160,
   "metadata": {},
   "outputs": [
    {
     "data": {
      "text/plain": [
       "array([[0],\n",
       "       [1],\n",
       "       [0],\n",
       "       [1],\n",
       "       [1],\n",
       "       [0],\n",
       "       [1],\n",
       "       [0],\n",
       "       [1],\n",
       "       [0],\n",
       "       [1],\n",
       "       [0],\n",
       "       [1],\n",
       "       [0],\n",
       "       [0],\n",
       "       [0],\n",
       "       [0],\n",
       "       [1],\n",
       "       [1],\n",
       "       [0],\n",
       "       [0],\n",
       "       [0],\n",
       "       [1],\n",
       "       [0],\n",
       "       [0],\n",
       "       [0],\n",
       "       [1],\n",
       "       [1],\n",
       "       [1],\n",
       "       [1],\n",
       "       [1],\n",
       "       [0],\n",
       "       [1],\n",
       "       [1],\n",
       "       [0],\n",
       "       [0],\n",
       "       [1],\n",
       "       [0],\n",
       "       [1],\n",
       "       [1],\n",
       "       [0],\n",
       "       [0],\n",
       "       [0],\n",
       "       [1],\n",
       "       [0],\n",
       "       [1],\n",
       "       [1],\n",
       "       [0],\n",
       "       [1],\n",
       "       [1],\n",
       "       [1],\n",
       "       [1],\n",
       "       [1],\n",
       "       [1],\n",
       "       [1],\n",
       "       [0],\n",
       "       [1],\n",
       "       [0],\n",
       "       [0],\n",
       "       [0],\n",
       "       [1],\n",
       "       [1],\n",
       "       [0],\n",
       "       [1],\n",
       "       [1],\n",
       "       [0],\n",
       "       [1],\n",
       "       [1],\n",
       "       [1],\n",
       "       [1],\n",
       "       [0],\n",
       "       [0],\n",
       "       [0],\n",
       "       [0],\n",
       "       [0],\n",
       "       [0],\n",
       "       [0],\n",
       "       [0],\n",
       "       [1],\n",
       "       [1],\n",
       "       [0],\n",
       "       [0],\n",
       "       [1],\n",
       "       [0],\n",
       "       [1],\n",
       "       [0],\n",
       "       [0],\n",
       "       [0],\n",
       "       [1],\n",
       "       [0],\n",
       "       [0],\n",
       "       [0],\n",
       "       [1],\n",
       "       [1],\n",
       "       [1],\n",
       "       [1],\n",
       "       [0],\n",
       "       [1],\n",
       "       [0],\n",
       "       [1]], dtype=int64)"
      ]
     },
     "execution_count": 160,
     "metadata": {},
     "output_type": "execute_result"
    }
   ],
   "source": [
    "cluster_idx=cluster_idx.reshape(-1,1) # index of each X data point given\n",
    "cluster_idx"
   ]
  },
  {
   "cell_type": "code",
   "execution_count": 161,
   "metadata": {},
   "outputs": [
    {
     "data": {
      "text/plain": [
       "array([[3.95560279],\n",
       "       [1.97099112]])"
      ]
     },
     "execution_count": 161,
     "metadata": {},
     "output_type": "execute_result"
    }
   ],
   "source": [
    "centroidsComputed # the centroids resulting from the K-means algorithm"
   ]
  },
  {
   "cell_type": "code",
   "execution_count": 162,
   "metadata": {},
   "outputs": [
    {
     "data": {
      "text/plain": [
       "0.7135036458005051"
      ]
     },
     "execution_count": 162,
     "metadata": {},
     "output_type": "execute_result"
    }
   ],
   "source": [
    "sil_score # the shiliotte score of this clustering "
   ]
  },
  {
   "cell_type": "markdown",
   "metadata": {},
   "source": [
    "### 4 Cluster Visualization"
   ]
  },
  {
   "cell_type": "markdown",
   "metadata": {},
   "source": [
    "\n",
    "Finally The code segment below visualizes the example data points with colors corresponding to their labels. It begins by defining labels, which represent the cluster assignments for each data point in the dataset X. Additionally, it defines label_colors as a dictionary mapping each label to a specific color. Next, it creates a scatter plot where each data point's x-coordinate is taken from the first column of X, and the color is determined by the corresponding label using the label_colors dictionary."
   ]
  },
  {
   "cell_type": "code",
   "execution_count": 183,
   "metadata": {},
   "outputs": [
    {
     "data": {
      "image/png": "[encoded data removed]",
      "text/plain": [
       "<Figure size 800x600 with 1 Axes>"
      ]
     },
     "metadata": {},
     "output_type": "display_data"
    }
   ],
   "source": [
    "# Example data\n",
    "\n",
    "labels =cluster_idx # Example labels, corresponding to each data point in X\n",
    "\n",
    "label_colors = {0: 'red', 1: 'blue', 2: 'green', 3:'orange'}  # Add more colors as needed\n",
    "\n",
    "# Plot the data points with colors corresponding to their labels\n",
    "plt.figure(figsize=(8, 6))\n",
    "\n",
    "# Plot the data points for Cluster 1\n",
    "plt.scatter(X[cluster_idx == 0], np.zeros_like(X[cluster_idx == 0]), color=label_colors[0], label='Cluster 1')\n",
    "\n",
    "# Plot the data points for Cluster 2\n",
    "plt.scatter(X[cluster_idx == 1], np.zeros_like(X[cluster_idx == 1]), color=label_colors[1], label='Cluster 2')\n",
    "\n",
    "\n",
    "plt.title('Data Points with Labels as Colors')\n",
    "plt.xlabel('Data')\n",
    "plt.ylabel('Dummy Y')\n",
    "plt.legend(title='Cluster Labels')\n",
    "plt.grid(True)\n",
    "plt.show()"
   ]
  },
  {
   "cell_type": "code",
   "execution_count": null,
   "metadata": {},
   "outputs": [],
   "source": []
  }
 ],
 "metadata": {
  "kernelspec": {
   "display_name": "Python 3",
   "language": "python",
   "name": "python3"
  },
  "language_info": {
   "codemirror_mode": {
    "name": "ipython",
    "version": 3
   },
   "file_extension": ".py",
   "mimetype": "text/x-python",
   "name": "python",
   "nbconvert_exporter": "python",
   "pygments_lexer": "ipython3",
   "version": "3.11.0"
  }
 },
 "nbformat": 4,
 "nbformat_minor": 2
}
